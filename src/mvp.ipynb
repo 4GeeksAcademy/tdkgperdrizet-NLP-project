{
 "cells": [
  {
   "cell_type": "markdown",
   "metadata": {},
   "source": [
    "# Natural language processing: spam detection"
   ]
  },
  {
   "cell_type": "code",
   "execution_count": 24,
   "metadata": {},
   "outputs": [],
   "source": [
    "# Handle imports up-front\n",
    "import regex as re\n",
    "import pandas as pd\n",
    "from sklearn.model_selection import train_test_split\n",
    "from nltk import download\n",
    "from nltk.corpus import stopwords\n",
    "from nltk.stem import WordNetLemmatizer\n",
    "from sklearn.feature_extraction.text import TfidfVectorizer\n",
    "from sklearn.svm import SVC\n",
    "from sklearn.model_selection import GridSearchCV\n",
    "from utils import cross_val"
   ]
  },
  {
   "cell_type": "markdown",
   "metadata": {},
   "source": [
    "## 1. Data loading\n",
    "\n",
    "### 1.1. Load the data"
   ]
  },
  {
   "cell_type": "code",
   "execution_count": 25,
   "metadata": {},
   "outputs": [],
   "source": [
    "# Read csv file into dataframe\n",
    "data_df=pd.read_csv('https://raw.githubusercontent.com/4GeeksAcademy/NLP-project-tutorial/main/url_spam.csv')\n",
    "\n",
    "# Drop duplicates if any\n",
    "data_df.drop_duplicates(inplace=True)\n",
    "data_df.reset_index(inplace=True, drop=True)"
   ]
  },
  {
   "cell_type": "markdown",
   "metadata": {},
   "source": [
    "### 1.2. Inspect the data"
   ]
  },
  {
   "cell_type": "code",
   "execution_count": 26,
   "metadata": {},
   "outputs": [
    {
     "name": "stdout",
     "output_type": "stream",
     "text": [
      "Index(['url', 'is_spam'], dtype='object')\n"
     ]
    }
   ],
   "source": [
    "print(data_df.columns)\n"
   ]
  },
  {
   "cell_type": "code",
   "execution_count": 27,
   "metadata": {},
   "outputs": [
    {
     "name": "stdout",
     "output_type": "stream",
     "text": [
      "                                                 url  is_spam\n",
      "0  https://briefingday.us8.list-manage.com/unsubs...     True\n",
      "1                             https://www.hvper.com/     True\n",
      "2                 https://briefingday.com/m/v4n3i4f3     True\n",
      "3   https://briefingday.com/n/20200618/m#commentform    False\n",
      "4                        https://briefingday.com/fan     True\n",
      "<class 'pandas.core.frame.DataFrame'>\n",
      "RangeIndex: 2369 entries, 0 to 2368\n",
      "Data columns (total 2 columns):\n",
      " #   Column   Non-Null Count  Dtype \n",
      "---  ------   --------------  ----- \n",
      " 0   url      2369 non-null   object\n",
      " 1   is_spam  2369 non-null   bool  \n",
      "dtypes: bool(1), object(1)\n",
      "memory usage: 20.9+ KB\n",
      "None\n",
      "url        0\n",
      "is_spam    0\n",
      "dtype: int64\n",
      "                                                      url is_spam\n",
      "count                                                2369    2369\n",
      "unique                                               2369       2\n",
      "top     https://briefingday.us8.list-manage.com/unsubs...   False\n",
      "freq                                                    1    2125\n",
      "is_spam\n",
      "False    2125\n",
      "True      244\n",
      "Name: count, dtype: int64\n"
     ]
    }
   ],
   "source": [
    "# Your code her# Display the first few rows\n",
    "print(data_df.head())\n",
    "\n",
    "# Get basic information about the dataset\n",
    "print(data_df.info())\n",
    "\n",
    "# Check for missing values\n",
    "print(data_df.isnull().sum())\n",
    "\n",
    "# Summary statistics\n",
    "print(data_df.describe(include='all'))\n",
    "\n",
    "# Check the distribution of target labels (if applicable)\n",
    "print(data_df['is_spam'].value_counts())\n"
   ]
  },
  {
   "cell_type": "markdown",
   "metadata": {},
   "source": [
    "### 1.3. Train-test split"
   ]
  },
  {
   "cell_type": "code",
   "execution_count": 28,
   "metadata": {},
   "outputs": [],
   "source": [
    "# Separate features from labels\n",
    "labels=data_df['is_spam']\n",
    "features=data_df.drop('is_spam', axis=1)\n",
    "\n",
    "# Encode the labels\n",
    "encoded_labels = labels.apply(lambda x: 1 if x else 0).astype(int)\n",
    "\n",
    "# Split the data into training and testing features and labels\n",
    "training_features, testing_features, encoded_training_labels, encoded_testing_labels=train_test_split(\n",
    "    features,\n",
    "    encoded_labels,\n",
    "    test_size=0.25,\n",
    "    random_state=315\n",
    ")"
   ]
  },
  {
   "cell_type": "markdown",
   "metadata": {},
   "source": [
    "## 2. EDA\n",
    "\n",
    "### 2.1. Text preprocessing"
   ]
  },
  {
   "cell_type": "code",
   "execution_count": 29,
   "metadata": {},
   "outputs": [
    {
     "name": "stdout",
     "output_type": "stream",
     "text": [
      "311     https://www.nytimes.com/2020/06/19/us/into-the...\n",
      "2317    https://digg.cmail20.com/t/t-u-ptuurik-vkjjhbl...\n",
      "1953                     http://snarkmarket.com/2010/4890\n",
      "1872          https://www.youtube.com/watch?v=8RYdItBIuOU\n",
      "1752    https://www.wired.com/story/amazon-shakes-self...\n",
      "2069    https://www.nbcnewyork.com/news/local/future-o...\n",
      "2116    https://www.reuters.com/article/us-usa-stocks/...\n",
      "217     https://www.reuters.com/article/us-people-mala...\n",
      "769     https://www.theverge.com/2020/6/24/21302080/co...\n",
      "2275    https://www1.nyc.gov/office-of-the-mayor/news/...\n",
      "Name: url, dtype: object\n"
     ]
    }
   ],
   "source": [
    "print(training_features['url'].head(10))\n"
   ]
  },
  {
   "cell_type": "code",
   "execution_count": 30,
   "metadata": {},
   "outputs": [],
   "source": [
    "def clean_url(url):\n",
    "    # Remove protocols and subdomains\n",
    "    url = re.sub(r'https?://(www\\.)?', '', url)\n",
    "    # Remove non-alphanumeric characters\n",
    "    url = re.sub(r'[^a-zA-Z0-9]', ' ', url)\n",
    "    # Convert to lowercase\n",
    "    url = url.lower()\n",
    "    # Optional: Remove common uninformative words\n",
    "    common_words = ['com', 'org', 'gov', 'html']\n",
    "    url = ' '.join([word for word in url.split() if word not in common_words])\n",
    "    return url\n"
   ]
  },
  {
   "cell_type": "code",
   "execution_count": 31,
   "metadata": {},
   "outputs": [
    {
     "name": "stdout",
     "output_type": "stream",
     "text": [
      "                                                    url  \\\n",
      "311   https://www.nytimes.com/2020/06/19/us/into-the...   \n",
      "2317  https://digg.cmail20.com/t/t-u-ptuurik-vkjjhbl...   \n",
      "1953                   http://snarkmarket.com/2010/4890   \n",
      "1872        https://www.youtube.com/watch?v=8RYdItBIuOU   \n",
      "1752  https://www.wired.com/story/amazon-shakes-self...   \n",
      "2069  https://www.nbcnewyork.com/news/local/future-o...   \n",
      "2116  https://www.reuters.com/article/us-usa-stocks/...   \n",
      "217   https://www.reuters.com/article/us-people-mala...   \n",
      "769   https://www.theverge.com/2020/6/24/21302080/co...   \n",
      "2275  https://www1.nyc.gov/office-of-the-mayor/news/...   \n",
      "\n",
      "                                            cleaned_url  \n",
      "311     nytimes 2020 06 19 us into the wild bus removed  \n",
      "2317             digg cmail20 t t u ptuurik vkjjhbly ih  \n",
      "1953                              snarkmarket 2010 4890  \n",
      "1872                        youtube watch v 8ryditbiuou  \n",
      "1752  wired story amazon shakes self driving ride ha...  \n",
      "2069  nbcnewyork news local future of nycs indoor di...  \n",
      "2116  reuters article us usa stocks sp 500 ends best...  \n",
      "217   reuters article us people malala sleep and net...  \n",
      "769   theverge 2020 6 24 21302080 coronavirus daily ...  \n",
      "2275  www1 nyc office of the mayor news 199 16 mayor...  \n"
     ]
    }
   ],
   "source": [
    "training_features['cleaned_url'] = training_features['url'].apply(clean_url)\n",
    "print(training_features[['url', 'cleaned_url']].head(10))\n"
   ]
  },
  {
   "cell_type": "code",
   "execution_count": 32,
   "metadata": {},
   "outputs": [
    {
     "name": "stdout",
     "output_type": "stream",
     "text": [
      "[('2020', 592), ('06', 407), ('the', 267), ('news', 194), ('us', 167), ('to', 156), ('coronavirus', 141), ('of', 127), ('article', 100), ('in', 88), ('story', 82), ('and', 81), ('a', 78), ('utm', 78), ('on', 72), ('nytimes', 71), ('6', 71), ('youtube', 70), ('morningbrew', 69), ('daily', 67)]\n"
     ]
    }
   ],
   "source": [
    "from collections import Counter\n",
    "all_words = ' '.join(training_features['cleaned_url']).split()\n",
    "word_counts = Counter(all_words).most_common(20)\n",
    "print(word_counts)\n"
   ]
  },
  {
   "cell_type": "code",
   "execution_count": 33,
   "metadata": {},
   "outputs": [
    {
     "name": "stderr",
     "output_type": "stream",
     "text": [
      "[nltk_data] Downloading package stopwords to /home/vscode/nltk_data...\n",
      "[nltk_data]   Package stopwords is already up-to-date!\n"
     ]
    }
   ],
   "source": [
    "from nltk.corpus import stopwords\n",
    "import nltk\n",
    "\n",
    "# Download stopwords\n",
    "nltk.download('stopwords')\n",
    "\n",
    "stop_words = set(stopwords.words('english'))\n",
    "\n",
    "def clean_url(url):\n",
    "    url = re.sub(r'https?://(www\\.)?', '', url)\n",
    "    url = re.sub(r'[^a-zA-Z0-9]', ' ', url)\n",
    "    url = url.lower()\n",
    "    common_words = ['com', 'org', 'gov', 'html', 'utm']\n",
    "    url = ' '.join([word for word in url.split() if word not in common_words and word not in stop_words])\n",
    "    return url\n",
    "\n",
    "training_features['cleaned_url'] = training_features['url'].apply(clean_url)\n"
   ]
  },
  {
   "cell_type": "code",
   "execution_count": 34,
   "metadata": {},
   "outputs": [
    {
     "name": "stdout",
     "output_type": "stream",
     "text": [
      "[('2020', 592), ('06', 407), ('news', 194), ('us', 167), ('coronavirus', 141), ('article', 100), ('story', 82), ('nytimes', 71), ('6', 71), ('youtube', 70), ('morningbrew', 69), ('daily', 67), ('trump', 67), ('watch', 66), ('19', 64), ('stories', 64), ('new', 63), ('v', 61), ('numlock', 60), ('29', 58)]\n"
     ]
    }
   ],
   "source": [
    "training_features['cleaned_url'] = training_features['url'].apply(clean_url)\n",
    "\n",
    "# Reanalyze word frequencies\n",
    "all_words = ' '.join(training_features['cleaned_url']).split()\n",
    "word_counts = Counter(all_words).most_common(20)\n",
    "print(word_counts)\n"
   ]
  },
  {
   "cell_type": "code",
   "execution_count": 35,
   "metadata": {},
   "outputs": [],
   "source": [
    "from nltk.corpus import stopwords\n",
    "\n",
    "stop_words = set(stopwords.words('english'))\n",
    "\n",
    "def clean_url(url):\n",
    "    # Remove protocols and subdomains\n",
    "    url = re.sub(r'https?://(www\\.)?', '', url)\n",
    "    # Remove non-alphanumeric characters\n",
    "    url = re.sub(r'[^a-zA-Z0-9]', ' ', url)\n",
    "    # Convert to lowercase\n",
    "    url = url.lower()\n",
    "    # Remove common uninformative words and stopwords\n",
    "    common_words = ['com', 'org', 'gov', 'html', 'utm', 'www']\n",
    "    url = ' '.join([word for word in url.split() if word not in common_words and word not in stop_words])\n",
    "    # Remove isolated numeric terms (already done earlier)\n",
    "    return url\n"
   ]
  },
  {
   "cell_type": "code",
   "execution_count": 36,
   "metadata": {},
   "outputs": [],
   "source": [
    "training_features['cleaned_url'] = training_features['url'].apply(clean_url)\n"
   ]
  },
  {
   "cell_type": "code",
   "execution_count": 37,
   "metadata": {},
   "outputs": [
    {
     "name": "stdout",
     "output_type": "stream",
     "text": [
      "[('2020', 592), ('06', 407), ('news', 194), ('us', 167), ('coronavirus', 141), ('article', 100), ('story', 82), ('nytimes', 71), ('6', 71), ('youtube', 70), ('morningbrew', 69), ('daily', 67), ('trump', 67), ('watch', 66), ('19', 64), ('stories', 64), ('new', 63), ('v', 61), ('numlock', 60), ('29', 58)]\n"
     ]
    }
   ],
   "source": [
    "all_words = ' '.join(training_features['cleaned_url']).split()\n",
    "word_counts = Counter(all_words).most_common(20)\n",
    "print(word_counts)\n"
   ]
  },
  {
   "cell_type": "code",
   "execution_count": 38,
   "metadata": {},
   "outputs": [],
   "source": [
    "def clean_url(url):\n",
    "    # Remove protocols and subdomains\n",
    "    url = re.sub(r'https?://(www\\.)?', '', url)\n",
    "    # Remove non-alphanumeric characters\n",
    "    url = re.sub(r'[^a-zA-Z0-9]', ' ', url)\n",
    "    # Convert to lowercase\n",
    "    url = url.lower()\n",
    "    # Remove common uninformative words and stopwords\n",
    "    common_words = ['com', 'org', 'gov', 'html', 'utm', 'www']\n",
    "    url = ' '.join([word for word in url.split() if word not in common_words and word not in stop_words])\n",
    "    # Remove isolated numeric terms and terms containing only digits\n",
    "    url = ' '.join([word for word in url.split() if not word.isdigit()])\n",
    "    return url\n"
   ]
  },
  {
   "cell_type": "code",
   "execution_count": 39,
   "metadata": {},
   "outputs": [],
   "source": [
    "training_features['cleaned_url'] = training_features['url'].apply(clean_url)\n"
   ]
  },
  {
   "cell_type": "code",
   "execution_count": 40,
   "metadata": {},
   "outputs": [
    {
     "name": "stdout",
     "output_type": "stream",
     "text": [
      "[('news', 194), ('us', 167), ('coronavirus', 141), ('article', 100), ('story', 82), ('nytimes', 71), ('youtube', 70), ('morningbrew', 69), ('daily', 67), ('trump', 67), ('watch', 66), ('stories', 64), ('new', 63), ('v', 61), ('numlock', 60), ('world', 55), ('reuters', 54), ('en', 50), ('covid', 49), ('substack', 49)]\n"
     ]
    }
   ],
   "source": [
    "all_words = ' '.join(training_features['cleaned_url']).split()\n",
    "word_counts = Counter(all_words).most_common(20)\n",
    "print(word_counts)\n"
   ]
  },
  {
   "cell_type": "code",
   "execution_count": 41,
   "metadata": {},
   "outputs": [
    {
     "name": "stdout",
     "output_type": "stream",
     "text": [
      "Top Words in Spam URLs: [('numlock', 60), ('substack', 40), ('p', 36), ('sunday', 31), ('list', 16), ('manage', 16), ('morningbrew', 11), ('austinkleon', 11), ('unsubscribe', 10), ('subscribe', 10), ('creativemornings', 8), ('us2', 8), ('docs', 7), ('google', 7), ('forms', 7), ('viewform', 7), ('pages', 7), ('annfriedman', 6), ('skimm', 6), ('daily', 6)]\n",
      "Top Words in Non-Spam URLs: [('news', 194), ('us', 163), ('coronavirus', 137), ('article', 100), ('story', 82), ('nytimes', 70), ('trump', 67), ('youtube', 66), ('watch', 65), ('stories', 62), ('new', 62), ('v', 61), ('daily', 61), ('morningbrew', 58), ('world', 55), ('reuters', 54), ('covid', 48), ('en', 47), ('index', 47), ('briefingday', 46)]\n"
     ]
    }
   ],
   "source": [
    "spam_urls = training_features[encoded_training_labels == 1]['cleaned_url']\n",
    "non_spam_urls = training_features[encoded_training_labels == 0]['cleaned_url']\n",
    "\n",
    "spam_words = Counter(' '.join(spam_urls).split()).most_common(20)\n",
    "non_spam_words = Counter(' '.join(non_spam_urls).split()).most_common(20)\n",
    "\n",
    "print(\"Top Words in Spam URLs:\", spam_words)\n",
    "print(\"Top Words in Non-Spam URLs:\", non_spam_words)\n"
   ]
  },
  {
   "cell_type": "markdown",
   "metadata": {},
   "source": [
    "### 2.2. Lematization"
   ]
  },
  {
   "cell_type": "code",
   "execution_count": 42,
   "metadata": {},
   "outputs": [],
   "source": [
    "from nltk.stem import WordNetLemmatizer\n",
    "\n",
    "# Initialize lemmatizer\n",
    "lemmatizer = WordNetLemmatizer()\n",
    "\n",
    "def clean_url(url):\n",
    "    # Remove protocols and subdomains\n",
    "    url = re.sub(r'https?://(www\\.)?', '', url)\n",
    "    # Remove non-alphanumeric characters\n",
    "    url = re.sub(r'[^a-zA-Z0-9]', ' ', url)\n",
    "    # Convert to lowercase\n",
    "    url = url.lower()\n",
    "    # Tokenize and lemmatize\n",
    "    words = url.split()\n",
    "    common_words = ['com', 'org', 'gov', 'html', 'utm', 'www']\n",
    "    stop_words = set(stopwords.words('english'))\n",
    "    words = [\n",
    "        lemmatizer.lemmatize(word)\n",
    "        for word in words\n",
    "        if word not in common_words and word not in stop_words and not word.isdigit()\n",
    "    ]\n",
    "    return ' '.join(words)\n"
   ]
  },
  {
   "cell_type": "code",
   "execution_count": 43,
   "metadata": {},
   "outputs": [
    {
     "name": "stderr",
     "output_type": "stream",
     "text": [
      "[nltk_data] Downloading package wordnet to /home/vscode/nltk_data...\n",
      "[nltk_data]   Package wordnet is already up-to-date!\n",
      "[nltk_data] Downloading package omw-1.4 to /home/vscode/nltk_data...\n",
      "[nltk_data]   Package omw-1.4 is already up-to-date!\n",
      "[nltk_data] Downloading package stopwords to /home/vscode/nltk_data...\n",
      "[nltk_data]   Package stopwords is already up-to-date!\n"
     ]
    }
   ],
   "source": [
    "import nltk\n",
    "from nltk.stem import WordNetLemmatizer\n",
    "from nltk.corpus import stopwords\n",
    "import re\n",
    "\n",
    "# Download necessary NLTK resources\n",
    "nltk.download('wordnet')\n",
    "nltk.download('omw-1.4')\n",
    "nltk.download('stopwords')\n",
    "\n",
    "# Initialize stopwords and lemmatizer\n",
    "stop_words = set(stopwords.words('english'))\n",
    "lemmatizer = WordNetLemmatizer()\n",
    "\n",
    "def clean_url(url):\n",
    "    # Remove protocols and subdomains\n",
    "    url = re.sub(r'https?://(www\\.)?', '', url)\n",
    "    # Remove non-alphanumeric characters\n",
    "    url = re.sub(r'[^a-zA-Z0-9]', ' ', url)\n",
    "    # Convert to lowercase\n",
    "    url = url.lower()\n",
    "    # Tokenize and lemmatize\n",
    "    words = url.split()\n",
    "    common_words = ['com', 'org', 'gov', 'html', 'utm', 'www']\n",
    "    words = [\n",
    "        lemmatizer.lemmatize(word)\n",
    "        for word in words\n",
    "        if word not in common_words and word not in stop_words and not word.isdigit()\n",
    "    ]\n",
    "    return ' '.join(words)\n"
   ]
  },
  {
   "cell_type": "markdown",
   "metadata": {},
   "source": [
    "### 2.3. Vectorization"
   ]
  },
  {
   "cell_type": "code",
   "execution_count": 45,
   "metadata": {},
   "outputs": [
    {
     "name": "stdout",
     "output_type": "stream",
     "text": [
      "Cross-validation scores: [0.93539326 0.93239437 0.94084507 0.92676056 0.93802817]\n"
     ]
    }
   ],
   "source": [
    "baseline_model = SVC(random_state=315)\n",
    "\n",
    "# Cross-validate the model using TF-IDF features\n",
    "from sklearn.model_selection import cross_val_score\n",
    "\n",
    "scores = cross_val_score(baseline_model, X_train, encoded_training_labels, cv=5)\n",
    "\n",
    "# Save results\n",
    "results = {'Baseline': scores}\n",
    "print(\"Cross-validation scores:\", scores)\n"
   ]
  },
  {
   "cell_type": "code",
   "execution_count": 47,
   "metadata": {},
   "outputs": [],
   "source": [
    "training_features['cleaned_url'] = training_features['url'].apply(clean_url)\n",
    "testing_features['cleaned_url'] = testing_features['url'].apply(clean_url)\n"
   ]
  },
  {
   "cell_type": "code",
   "execution_count": 48,
   "metadata": {},
   "outputs": [
    {
     "name": "stdout",
     "output_type": "stream",
     "text": [
      "Index(['url', 'cleaned_url'], dtype='object')\n",
      "Index(['url', 'cleaned_url'], dtype='object')\n"
     ]
    }
   ],
   "source": [
    "print(training_features.columns)\n",
    "print(testing_features.columns)\n"
   ]
  },
  {
   "cell_type": "code",
   "execution_count": 49,
   "metadata": {},
   "outputs": [],
   "source": [
    "tfidf = TfidfVectorizer(max_features=1000)\n",
    "\n",
    "# Fit on training data and transform both training and testing data\n",
    "X_train = tfidf.fit_transform(training_features['cleaned_url'])\n",
    "X_test = tfidf.transform(testing_features['cleaned_url'])\n"
   ]
  },
  {
   "cell_type": "code",
   "execution_count": 50,
   "metadata": {},
   "outputs": [
    {
     "data": {
      "text/html": [
       "<style>#sk-container-id-1 {color: black;}#sk-container-id-1 pre{padding: 0;}#sk-container-id-1 div.sk-toggleable {background-color: white;}#sk-container-id-1 label.sk-toggleable__label {cursor: pointer;display: block;width: 100%;margin-bottom: 0;padding: 0.3em;box-sizing: border-box;text-align: center;}#sk-container-id-1 label.sk-toggleable__label-arrow:before {content: \"▸\";float: left;margin-right: 0.25em;color: #696969;}#sk-container-id-1 label.sk-toggleable__label-arrow:hover:before {color: black;}#sk-container-id-1 div.sk-estimator:hover label.sk-toggleable__label-arrow:before {color: black;}#sk-container-id-1 div.sk-toggleable__content {max-height: 0;max-width: 0;overflow: hidden;text-align: left;background-color: #f0f8ff;}#sk-container-id-1 div.sk-toggleable__content pre {margin: 0.2em;color: black;border-radius: 0.25em;background-color: #f0f8ff;}#sk-container-id-1 input.sk-toggleable__control:checked~div.sk-toggleable__content {max-height: 200px;max-width: 100%;overflow: auto;}#sk-container-id-1 input.sk-toggleable__control:checked~label.sk-toggleable__label-arrow:before {content: \"▾\";}#sk-container-id-1 div.sk-estimator input.sk-toggleable__control:checked~label.sk-toggleable__label {background-color: #d4ebff;}#sk-container-id-1 div.sk-label input.sk-toggleable__control:checked~label.sk-toggleable__label {background-color: #d4ebff;}#sk-container-id-1 input.sk-hidden--visually {border: 0;clip: rect(1px 1px 1px 1px);clip: rect(1px, 1px, 1px, 1px);height: 1px;margin: -1px;overflow: hidden;padding: 0;position: absolute;width: 1px;}#sk-container-id-1 div.sk-estimator {font-family: monospace;background-color: #f0f8ff;border: 1px dotted black;border-radius: 0.25em;box-sizing: border-box;margin-bottom: 0.5em;}#sk-container-id-1 div.sk-estimator:hover {background-color: #d4ebff;}#sk-container-id-1 div.sk-parallel-item::after {content: \"\";width: 100%;border-bottom: 1px solid gray;flex-grow: 1;}#sk-container-id-1 div.sk-label:hover label.sk-toggleable__label {background-color: #d4ebff;}#sk-container-id-1 div.sk-serial::before {content: \"\";position: absolute;border-left: 1px solid gray;box-sizing: border-box;top: 0;bottom: 0;left: 50%;z-index: 0;}#sk-container-id-1 div.sk-serial {display: flex;flex-direction: column;align-items: center;background-color: white;padding-right: 0.2em;padding-left: 0.2em;position: relative;}#sk-container-id-1 div.sk-item {position: relative;z-index: 1;}#sk-container-id-1 div.sk-parallel {display: flex;align-items: stretch;justify-content: center;background-color: white;position: relative;}#sk-container-id-1 div.sk-item::before, #sk-container-id-1 div.sk-parallel-item::before {content: \"\";position: absolute;border-left: 1px solid gray;box-sizing: border-box;top: 0;bottom: 0;left: 50%;z-index: -1;}#sk-container-id-1 div.sk-parallel-item {display: flex;flex-direction: column;z-index: 1;position: relative;background-color: white;}#sk-container-id-1 div.sk-parallel-item:first-child::after {align-self: flex-end;width: 50%;}#sk-container-id-1 div.sk-parallel-item:last-child::after {align-self: flex-start;width: 50%;}#sk-container-id-1 div.sk-parallel-item:only-child::after {width: 0;}#sk-container-id-1 div.sk-dashed-wrapped {border: 1px dashed gray;margin: 0 0.4em 0.5em 0.4em;box-sizing: border-box;padding-bottom: 0.4em;background-color: white;}#sk-container-id-1 div.sk-label label {font-family: monospace;font-weight: bold;display: inline-block;line-height: 1.2em;}#sk-container-id-1 div.sk-label-container {text-align: center;}#sk-container-id-1 div.sk-container {/* jupyter's `normalize.less` sets `[hidden] { display: none; }` but bootstrap.min.css set `[hidden] { display: none !important; }` so we also need the `!important` here to be able to override the default hidden behavior on the sphinx rendered scikit-learn.org. See: https://github.com/scikit-learn/scikit-learn/issues/21755 */display: inline-block !important;position: relative;}#sk-container-id-1 div.sk-text-repr-fallback {display: none;}</style><div id=\"sk-container-id-1\" class=\"sk-top-container\"><div class=\"sk-text-repr-fallback\"><pre>SVC(kernel=&#x27;linear&#x27;, random_state=315)</pre><b>In a Jupyter environment, please rerun this cell to show the HTML representation or trust the notebook. <br />On GitHub, the HTML representation is unable to render, please try loading this page with nbviewer.org.</b></div><div class=\"sk-container\" hidden><div class=\"sk-item\"><div class=\"sk-estimator sk-toggleable\"><input class=\"sk-toggleable__control sk-hidden--visually\" id=\"sk-estimator-id-1\" type=\"checkbox\" checked><label for=\"sk-estimator-id-1\" class=\"sk-toggleable__label sk-toggleable__label-arrow\">SVC</label><div class=\"sk-toggleable__content\"><pre>SVC(kernel=&#x27;linear&#x27;, random_state=315)</pre></div></div></div></div></div>"
      ],
      "text/plain": [
       "SVC(kernel='linear', random_state=315)"
      ]
     },
     "execution_count": 50,
     "metadata": {},
     "output_type": "execute_result"
    }
   ],
   "source": [
    "# Train the SVM model\n",
    "model = SVC(kernel='linear', random_state=315)\n",
    "model.fit(X_train, encoded_training_labels)\n"
   ]
  },
  {
   "cell_type": "code",
   "execution_count": 51,
   "metadata": {},
   "outputs": [
    {
     "name": "stdout",
     "output_type": "stream",
     "text": [
      "Accuracy: 0.9376053962900506\n",
      "Classification Report:\n",
      "               precision    recall  f1-score   support\n",
      "\n",
      "           0       0.94      0.99      0.97       537\n",
      "           1       0.81      0.45      0.57        56\n",
      "\n",
      "    accuracy                           0.94       593\n",
      "   macro avg       0.88      0.72      0.77       593\n",
      "weighted avg       0.93      0.94      0.93       593\n",
      "\n"
     ]
    }
   ],
   "source": [
    "from sklearn.metrics import classification_report, accuracy_score\n",
    "\n",
    "# Predict on test data\n",
    "predictions = model.predict(X_test)\n",
    "\n",
    "# Print evaluation metrics\n",
    "print(\"Accuracy:\", accuracy_score(encoded_testing_labels, predictions))\n",
    "print(\"Classification Report:\\n\", classification_report(encoded_testing_labels, predictions))\n"
   ]
  },
  {
   "cell_type": "code",
   "execution_count": 52,
   "metadata": {},
   "outputs": [
    {
     "name": "stdout",
     "output_type": "stream",
     "text": [
      "Top Positive Features (Spam):\n",
      "numlock : 2.176019688672299\n",
      "skimm : 2.14848145119189\n",
      "unsubscribe : 1.9997117602779966\n",
      "annfriedman : 1.999450136782758\n",
      "austinkleon : 1.9994015310786253\n",
      "subscribe : 1.9517277768474477\n",
      "creativemornings : 1.9260520972970008\n",
      "morningbrew : 1.6957357308374736\n",
      "moonclerk : 1.5683083979118588\n",
      "interesting : 1.4947128604148634\n",
      "\n",
      "Top Negative Features (Non-Spam):\n",
      "daily : -1.563175790979948\n",
      "issue : -1.3662647670226895\n",
      "money : -1.3495989773096153\n",
      "drinkhydrant : -0.8350594913227721\n",
      "news : -0.7960560577047499\n",
      "alone : -0.7883373910583843\n",
      "policy : -0.7720149095030864\n",
      "watch : -0.7643209095185536\n",
      "morning : -0.7502965664920647\n",
      "get : -0.727236000001726\n"
     ]
    }
   ],
   "source": [
    "import numpy as np\n",
    "\n",
    "# Get feature names and weights\n",
    "feature_names = tfidf.get_feature_names_out()\n",
    "weights = model.coef_.toarray()[0]  # Coefficients of the linear SVM\n",
    "\n",
    "# Sort features by importance\n",
    "top_indices = np.argsort(weights)[-10:]  # Top 10 features\n",
    "bottom_indices = np.argsort(weights)[:10]  # Bottom 10 features\n",
    "\n",
    "print(\"Top Positive Features (Spam):\")\n",
    "for idx in top_indices[::-1]:\n",
    "    print(feature_names[idx], \":\", weights[idx])\n",
    "\n",
    "print(\"\\nTop Negative Features (Non-Spam):\")\n",
    "for idx in bottom_indices:\n",
    "    print(feature_names[idx], \":\", weights[idx])\n"
   ]
  },
  {
   "cell_type": "code",
   "execution_count": 54,
   "metadata": {},
   "outputs": [
    {
     "name": "stdout",
     "output_type": "stream",
     "text": [
      "Best Parameters: {'C': 10, 'kernel': 'rbf'}\n"
     ]
    }
   ],
   "source": [
    "from sklearn.model_selection import GridSearchCV\n",
    "\n",
    "# Define hyperparameters\n",
    "param_grid = {\n",
    "    'C': [0.1, 1, 10, 100],\n",
    "    'kernel': ['linear', 'rbf']\n",
    "}\n",
    "\n",
    "# Perform Grid Search\n",
    "grid_search = GridSearchCV(SVC(random_state=315), param_grid, cv=5, scoring='f1')\n",
    "grid_search.fit(X_train, encoded_training_labels)\n",
    "\n",
    "# Print best parameters\n",
    "print(\"Best Parameters:\", grid_search.best_params_)\n",
    "\n",
    "# Evaluate with the best model\n",
    "best_model = grid_search.best_estimator_\n"
   ]
  },
  {
   "cell_type": "code",
   "execution_count": 55,
   "metadata": {},
   "outputs": [
    {
     "data": {
      "text/plain": [
       "['tfidf_vectorizer.pkl']"
      ]
     },
     "execution_count": 55,
     "metadata": {},
     "output_type": "execute_result"
    }
   ],
   "source": [
    "import joblib\n",
    "\n",
    "# Save the model\n",
    "joblib.dump(model, 'svm_spam_model.pkl')\n",
    "\n",
    "# Save the vectorizer\n",
    "joblib.dump(tfidf, 'tfidf_vectorizer.pkl')\n"
   ]
  },
  {
   "cell_type": "code",
   "execution_count": 56,
   "metadata": {},
   "outputs": [],
   "source": [
    "# Predict on the test data\n",
    "predictions = model.predict(X_test)\n"
   ]
  },
  {
   "cell_type": "code",
   "execution_count": 57,
   "metadata": {},
   "outputs": [
    {
     "name": "stdout",
     "output_type": "stream",
     "text": [
      "Accuracy: 0.9376053962900506\n"
     ]
    }
   ],
   "source": [
    "from sklearn.metrics import accuracy_score\n",
    "\n",
    "accuracy = accuracy_score(encoded_testing_labels, predictions)\n",
    "print(\"Accuracy:\", accuracy)\n"
   ]
  },
  {
   "cell_type": "code",
   "execution_count": 58,
   "metadata": {},
   "outputs": [
    {
     "name": "stdout",
     "output_type": "stream",
     "text": [
      "Classification Report:\n",
      "               precision    recall  f1-score   support\n",
      "\n",
      "           0       0.94      0.99      0.97       537\n",
      "           1       0.81      0.45      0.57        56\n",
      "\n",
      "    accuracy                           0.94       593\n",
      "   macro avg       0.88      0.72      0.77       593\n",
      "weighted avg       0.93      0.94      0.93       593\n",
      "\n"
     ]
    }
   ],
   "source": [
    "from sklearn.metrics import classification_report\n",
    "\n",
    "# Detailed classification metrics\n",
    "print(\"Classification Report:\\n\", classification_report(encoded_testing_labels, predictions))\n"
   ]
  },
  {
   "cell_type": "code",
   "execution_count": 59,
   "metadata": {},
   "outputs": [
    {
     "name": "stdout",
     "output_type": "stream",
     "text": [
      "Confusion Matrix:\n",
      " [[531   6]\n",
      " [ 31  25]]\n"
     ]
    }
   ],
   "source": [
    "from sklearn.metrics import confusion_matrix\n",
    "\n",
    "conf_matrix = confusion_matrix(encoded_testing_labels, predictions)\n",
    "print(\"Confusion Matrix:\\n\", conf_matrix)\n"
   ]
  },
  {
   "cell_type": "code",
   "execution_count": 60,
   "metadata": {},
   "outputs": [
    {
     "data": {
      "image/png": "[encoded data removed]",
      "text/plain": [
       "<Figure size 640x480 with 2 Axes>"
      ]
     },
     "metadata": {},
     "output_type": "display_data"
    }
   ],
   "source": [
    "import seaborn as sns\n",
    "import matplotlib.pyplot as plt\n",
    "\n",
    "sns.heatmap(conf_matrix, annot=True, fmt='d', cmap='Blues', xticklabels=['Non-Spam', 'Spam'], yticklabels=['Non-Spam', 'Spam'])\n",
    "plt.xlabel('Predicted')\n",
    "plt.ylabel('True')\n",
    "plt.title('Confusion Matrix')\n",
    "plt.show()\n"
   ]
  },
  {
   "cell_type": "code",
   "execution_count": 61,
   "metadata": {},
   "outputs": [
    {
     "name": "stdout",
     "output_type": "stream",
     "text": [
      "Precision-Recall AUC: 0.6305516462276882\n"
     ]
    },
    {
     "data": {
      "image/png": "[encoded data removed]",
      "text/plain": [
       "<Figure size 640x480 with 1 Axes>"
      ]
     },
     "metadata": {},
     "output_type": "display_data"
    }
   ],
   "source": [
    "from sklearn.metrics import precision_recall_curve, auc\n",
    "\n",
    "# Get precision-recall data\n",
    "precision, recall, thresholds = precision_recall_curve(encoded_testing_labels, model.decision_function(X_test))\n",
    "\n",
    "# Calculate area under the curve\n",
    "pr_auc = auc(recall, precision)\n",
    "print(\"Precision-Recall AUC:\", pr_auc)\n",
    "\n",
    "# Plot the curve\n",
    "plt.plot(recall, precision, label=f'PR Curve (AUC = {pr_auc:.2f})')\n",
    "plt.xlabel('Recall')\n",
    "plt.ylabel('Precision')\n",
    "plt.title('Precision-Recall Curve')\n",
    "plt.legend()\n",
    "plt.show()\n"
   ]
  },
  {
   "cell_type": "markdown",
   "metadata": {},
   "source": [
    "Has a high accuracy of detecting non-spam urls. However its recall for spam-detection and F1 score is not great."
   ]
  }
 ],
 "metadata": {
  "kernelspec": {
   "display_name": "Python 3",
   "language": "python",
   "name": "python3"
  },
  "language_info": {
   "codemirror_mode": {
    "name": "ipython",
    "version": 3
   },
   "file_extension": ".py",
   "mimetype": "text/x-python",
   "name": "python",
   "nbconvert_exporter": "python",
   "pygments_lexer": "ipython3",
   "version": "3.10.12"
  },
  "orig_nbformat": 4
 },
 "nbformat": 4,
 "nbformat_minor": 2
}
